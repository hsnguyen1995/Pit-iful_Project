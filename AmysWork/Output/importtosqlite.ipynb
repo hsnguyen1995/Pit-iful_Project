{
 "cells": [
  {
   "cell_type": "code",
   "execution_count": 2,
   "metadata": {},
   "outputs": [],
   "source": [
    "import sqlite3\n",
    "from sqlite3 import Error"
   ]
  },
  {
   "cell_type": "code",
   "execution_count": 3,
   "metadata": {},
   "outputs": [],
   "source": [
    "conn = sqlite3.connect('AmyTestDB.db')\n",
    "c = conn.cursor()"
   ]
  },
  {
   "cell_type": "code",
   "execution_count": 6,
   "metadata": {},
   "outputs": [
    {
     "data": {
      "text/plain": [
       "<sqlite3.Cursor at 0x1d7e1c9f810>"
      ]
     },
     "execution_count": 6,
     "metadata": {},
     "output_type": "execute_result"
    }
   ],
   "source": [
    "#create table county acreage ca\n",
    "c.execute('''CREATE TABLE COUNTYACREAGE ([county_id] INTEGER PRIMARY KEY,\n",
    "          [County_Name] text,\n",
    "          [Producing_Acres] INTEGER,\n",
    "          [Planted_Acres] INTEGER)''')"
   ]
  },
  {
   "cell_type": "code",
   "execution_count": 7,
   "metadata": {},
   "outputs": [
    {
     "data": {
      "text/plain": [
       "<sqlite3.Cursor at 0x1d7e1c9f810>"
      ]
     },
     "execution_count": 7,
     "metadata": {},
     "output_type": "execute_result"
    }
   ],
   "source": [
    "#create table on annual projections since 1971\n",
    "c.execute('''CREATE TABLE ANNUALSINCE71 ([index] INTEGER,\n",
    "          [Year] text,\n",
    "          [Bearing_Acres] INTEGER,\n",
    "          [Average_Value_Per_Acre] INTEGER,\n",
    "          [Average_Pounds_Per_Acre] INTEGER)\n",
    "          ''')"
   ]
  },
  {
   "cell_type": "code",
   "execution_count": 8,
   "metadata": {},
   "outputs": [
    {
     "data": {
      "text/plain": [
       "<sqlite3.Cursor at 0x1d7e1c9f810>"
      ]
     },
     "execution_count": 8,
     "metadata": {},
     "output_type": "execute_result"
    }
   ],
   "source": [
    "#create avocado diseases table\n",
    "c.execute('''CREATE TABLE AVOCADODISEASES ([generated_id] INTEGER PRIMARY KEY,\n",
    "          [common_name] text,\n",
    "          [scientific_name] text,\n",
    "          [cause] text)''')"
   ]
  },
  {
   "cell_type": "code",
   "execution_count": null,
   "metadata": {},
   "outputs": [],
   "source": [
    "c.execute('''CREATE TABLE WEEKLYAVOREPORTCA ([generated_id] INTEGER PRIMARY KEY,\n",
    "          [CAC_Week] text,\n",
    "          [4_Year_Historical_Average] )''')"
   ]
  }
 ],
 "metadata": {
  "kernelspec": {
   "display_name": "Python 3",
   "language": "python",
   "name": "python3"
  },
  "language_info": {
   "codemirror_mode": {
    "name": "ipython",
    "version": 3
   },
   "file_extension": ".py",
   "mimetype": "text/x-python",
   "name": "python",
   "nbconvert_exporter": "python",
   "pygments_lexer": "ipython3",
   "version": "3.7.4"
  }
 },
 "nbformat": 4,
 "nbformat_minor": 4
}
